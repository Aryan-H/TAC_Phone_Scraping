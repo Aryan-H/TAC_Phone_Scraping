{
  "nbformat": 4,
  "nbformat_minor": 0,
  "metadata": {
    "colab": {
      "provenance": []
    },
    "kernelspec": {
      "name": "python3",
      "display_name": "Python 3"
    },
    "language_info": {
      "name": "python"
    }
  },
  "cells": [
    {
      "cell_type": "code",
      "execution_count": 14,
      "metadata": {
        "colab": {
          "base_uri": "https://localhost:8080/"
        },
        "id": "XR8FJfQa1qoL",
        "outputId": "4ff79bd1-5ef1-4f90-edcf-a9eb037a5047"
      },
      "outputs": [
        {
          "output_type": "stream",
          "name": "stdout",
          "text": [
            "Requirement already satisfied: requests in /usr/local/lib/python3.10/dist-packages (2.31.0)\n",
            "Requirement already satisfied: charset-normalizer<4,>=2 in /usr/local/lib/python3.10/dist-packages (from requests) (3.3.2)\n",
            "Requirement already satisfied: idna<4,>=2.5 in /usr/local/lib/python3.10/dist-packages (from requests) (3.6)\n",
            "Requirement already satisfied: urllib3<3,>=1.21.1 in /usr/local/lib/python3.10/dist-packages (from requests) (2.0.7)\n",
            "Requirement already satisfied: certifi>=2017.4.17 in /usr/local/lib/python3.10/dist-packages (from requests) (2024.2.2)\n",
            "Requirement already satisfied: beautifulsoup4 in /usr/local/lib/python3.10/dist-packages (4.12.3)\n",
            "Requirement already satisfied: soupsieve>1.2 in /usr/local/lib/python3.10/dist-packages (from beautifulsoup4) (2.5)\n"
          ]
        }
      ],
      "source": [
        "#imports\n",
        "!pip install requests\n",
        "!pip install beautifulsoup4\n",
        "\n",
        "import csv\n",
        "import requests\n",
        "from bs4 import BeautifulSoup\n",
        "import pandas as pd\n",
        "import numpy as np"
      ]
    },
    {
      "cell_type": "code",
      "source": [
        "# Get TAC codes from CSV file and store it in a tuple\n",
        "def read_tac_data(csv_file):\n",
        "    tac_data = []\n",
        "    with open(csv_file, newline='') as csvfile:\n",
        "        reader = csv.reader(csvfile)\n",
        "        for row in reader:\n",
        "            # Check if the row has at least three values\n",
        "            if len(row) >= 3:\n",
        "                tac_code, company, model = row[:3]  # Unpack the first three values\n",
        "                tac_data.append((tac_code, company, model))\n",
        "\n",
        "    return tac_data"
      ],
      "metadata": {
        "id": "AlybVIGeA734"
      },
      "execution_count": 110,
      "outputs": []
    },
    {
      "cell_type": "code",
      "source": [
        "# Store TAC's and Model Names and companies in variable tac_data\n",
        "csv_file = 'tacdb.csv'\n",
        "tac_data = read_tac_data(csv_file)\n",
        "#print(tac_data)"
      ],
      "metadata": {
        "id": "1f5I_I0xBGW0"
      },
      "execution_count": 111,
      "outputs": []
    },
    {
      "cell_type": "code",
      "source": [
        "# Function to extract Product Title\n",
        "def get_title(soup):\n",
        "\n",
        "    try:\n",
        "        # Outer Tag Object\n",
        "        title = soup.find(\"span\", attrs={\"id\":'productTitle'})\n",
        "\n",
        "        # Inner NavigatableString Object\n",
        "        title_value = title.text\n",
        "\n",
        "        # Title as a string value\n",
        "        title_string = title_value.strip()\n",
        "\n",
        "    except AttributeError:\n",
        "        title_string = \"\"\n",
        "\n",
        "    return title_string\n",
        "\n",
        "# Function to extract Product Price\n",
        "def get_price(soup):\n",
        "\n",
        "    try:\n",
        "        price = soup.find(\"span\", attrs={'id':'priceblock_ourprice'}).string.strip()\n",
        "\n",
        "    except AttributeError:\n",
        "\n",
        "        try:\n",
        "            # If there is some deal price\n",
        "            price = soup.find(\"span\", attrs={'class':'a-offscreen'}).string.strip()\n",
        "\n",
        "        except:\n",
        "            price = \"\"\n",
        "\n",
        "    return price\n",
        "\n",
        "# Function to extract Product Rating\n",
        "def get_rating(soup):\n",
        "\n",
        "    try:\n",
        "        rating = soup.find(\"i\", attrs={'class':'a-icon a-icon-star a-star-4-5'}).string.strip()\n",
        "\n",
        "    except AttributeError:\n",
        "        try:\n",
        "            rating = soup.find(\"span\", attrs={'class':'a-icon-alt'}).string.strip()\n",
        "        except:\n",
        "            rating = \"\"\n",
        "\n",
        "    return rating\n",
        "\n",
        "# Function to extract Number of User Reviews\n",
        "def get_review_count(soup):\n",
        "    try:\n",
        "        review_count = soup.find(\"span\", attrs={'id':'acrCustomerReviewText'}).string.strip()\n",
        "\n",
        "    except AttributeError:\n",
        "        review_count = \"\"\n",
        "\n",
        "    return review_count\n",
        "\n",
        "# Function to extract Availability Status\n",
        "def get_availability(soup):\n",
        "    try:\n",
        "        available = soup.find(\"div\", attrs={'id':'availability'})\n",
        "        available = available.find(\"span\").string.strip()\n",
        "\n",
        "    except AttributeError:\n",
        "        available = \"Not Available\"\n",
        "\n",
        "    return available"
      ],
      "metadata": {
        "id": "ZwCubbVDIZ2B"
      },
      "execution_count": 39,
      "outputs": []
    },
    {
      "cell_type": "code",
      "source": [
        "def get_phone_from_tac(tac_code):\n",
        "    try:\n",
        "        with open('tacdb.csv', newline='') as csvfile:\n",
        "            reader = csv.reader(csvfile)\n",
        "            for row in reader:\n",
        "                if row and row[0] == tac_code:\n",
        "                    return row[1], row[2]  # Return company and model\n",
        "    except FileNotFoundError:\n",
        "        print(\"TAC database file not found.\")\n",
        "    except Exception as e:\n",
        "        print(f\"An error occurred while retrieving phone information: {e}\")\n",
        "\n",
        "    return None\n",
        "\n",
        "# Example usage:\n",
        "tac_code = '01294000'  # Example TAC code\n",
        "phone_info = get_phone_from_tac(tac_code)\n",
        "if phone_info:\n",
        "    company, model = phone_info\n",
        "    print(f\"The phone with TAC code {tac_code} is manufactured by {company} and the model is {model}.\")\n",
        "else:\n",
        "    print(f\"No phone information found for TAC code {tac_code}.\")"
      ],
      "metadata": {
        "colab": {
          "base_uri": "https://localhost:8080/"
        },
        "id": "cs538KfOKVnO",
        "outputId": "6a026870-632d-44ff-c65d-852eefe5eb2f"
      },
      "execution_count": 104,
      "outputs": [
        {
          "output_type": "stream",
          "name": "stdout",
          "text": [
            "The phone with TAC code 01294000 is manufactured by Apple and the model is iPhone 4s.\n"
          ]
        }
      ]
    },
    {
      "cell_type": "code",
      "source": [
        "def scrape_amazon_phone_data(phone_name):\n",
        "    # Add your user agent\n",
        "    HEADERS = {'User-Agent': '', 'Accept-Language': 'en-US, en;q=0.5'}\n",
        "\n",
        "    # The webpage URL with the phone name\n",
        "    URL = f\"https://www.amazon.ca/s?k={phone_name.replace(' ', '+')}&ref=nb_sb_noss_2\"\n",
        "\n",
        "    # HTTP Request\n",
        "    webpage = requests.get(URL, headers=HEADERS)\n",
        "\n",
        "    # Soup Object containing all data\n",
        "    soup = BeautifulSoup(webpage.content, \"html.parser\")\n",
        "\n",
        "    # Fetch links as List of Tag Objects\n",
        "    links = soup.find_all(\"a\", attrs={'class': 'a-link-normal s-no-outline'})\n",
        "\n",
        "    # Store the links\n",
        "    links_list = []\n",
        "\n",
        "    # Loop for extracting links from Tag Objects\n",
        "    for link in links:\n",
        "        links_list.append(link.get('href'))\n",
        "\n",
        "    d = {\"title\": [], \"price\": [], \"rating\": [], \"reviews\": [], \"availability\": []}\n",
        "\n",
        "    # Loop for extracting product details from each link\n",
        "    for link in links_list:\n",
        "        new_webpage = requests.get(\"https://www.amazon.ca\" + link, headers=HEADERS)\n",
        "        new_soup = BeautifulSoup(new_webpage.content, \"html.parser\")\n",
        "\n",
        "        # Function calls to display all necessary product information\n",
        "        d['title'].append(get_title(new_soup))\n",
        "        d['price'].append(get_price(new_soup))\n",
        "        d['rating'].append(get_rating(new_soup))\n",
        "        d['reviews'].append(get_review_count(new_soup))\n",
        "        d['availability'].append(get_availability(new_soup))\n",
        "\n",
        "    amazon_df = pd.DataFrame.from_dict(d)\n",
        "    amazon_df['title'].replace('', np.nan, inplace=True)\n",
        "    amazon_df = amazon_df.dropna(subset=['title'])\n",
        "    return amazon_df\n",
        "\n",
        "#Testing\n",
        "#phone_name = \"iphone 12\"\n",
        "#amazon_data = scrape_amazon_phone_data(phone_name)\n",
        "#amazon_data\n"
      ],
      "metadata": {
        "id": "eQxCMgLES2yI"
      },
      "execution_count": 82,
      "outputs": []
    },
    {
      "cell_type": "code",
      "source": [
        "def get_phone_data_from_tac(tac_code):\n",
        "    company, model = get_phone_from_tac(tac_code)\n",
        "    if company and model:\n",
        "        phone_name = f\"{company} {model}\"\n",
        "        return scrape_amazon_phone_data(phone_name)\n",
        "    else:\n",
        "        print(f\"No phone information found for TAC code {tac_code}.\")\n",
        "        return None\n"
      ],
      "metadata": {
        "id": "p_IjVlV1T9u1"
      },
      "execution_count": 100,
      "outputs": []
    },
    {
      "cell_type": "code",
      "source": [
        "# Example usage:\n",
        "#tac_code = '01294000'  # Example TAC code for iPhone 4s\n",
        "tac_code = input(\"Please enter the TAC code: \").strip()  # Ensure no leading or trailing whitespace\n",
        "print(\"Entered TAC code:\", tac_code)  # Debugging print statement\n",
        "\n",
        "phone_info = get_phone_from_tac(tac_code)\n",
        "if phone_info:\n",
        "    company, model = phone_info\n",
        "    print(f\"The phone with TAC code {tac_code} is manufactured by {company} and the model is {model}.\")\n",
        "    amazon_data = get_phone_data_from_tac(tac_code)\n",
        "    if amazon_data is not None:\n",
        "        print(f\"Amazon Data for TAC code {tac_code}:\")\n",
        "        print(amazon_data)\n",
        "    else:\n",
        "        print(f\"No Amazon data found for TAC code {tac_code}.\")\n",
        "else:\n",
        "    print(f\"No phone information found for TAC code {tac_code}.\")"
      ],
      "metadata": {
        "colab": {
          "base_uri": "https://localhost:8080/"
        },
        "id": "JCkLIMQBcKwO",
        "outputId": "5ef6802f-87e8-488c-d977-c1afb0d02fe6"
      },
      "execution_count": 107,
      "outputs": [
        {
          "output_type": "stream",
          "name": "stdout",
          "text": [
            "Please enter the TAC code: 01294000\n",
            "Entered TAC code: 01294000\n",
            "The phone with TAC code 01294000 is manufactured by Apple and the model is iPhone 4s.\n",
            "Amazon Data for TAC code 01294000:\n",
            "                                                title    price  \\\n",
            "0   Apple iPhone 4S 16GB Unlocked GSM - Black (Ref...  $199.00   \n",
            "1   iPhone 4s Cable USB Sync and Charging Cable fo...    $6.66   \n",
            "2   iPhone 4S Case, iPhone 4 Cover, Jeylly Shock A...   $11.85   \n",
            "3   Cbiumpro iPhone 4 Charging Cables (3 Pack 1M) ...   $12.97   \n",
            "4   Case for iPhone 4, iPhone 4S Case with [2 Pack...   $17.99   \n",
            "5   Wedawn iPhone 4s Cable iPad 2 Cable [Apple Cer...    $6.95   \n",
            "6   Apple iPhone SE 32GB Factory Unlocked Space Gr...   $89.00   \n",
            "7   30-Pin to USB Cable, iPhone 4s Cable 3.3 Ft US...    $8.99   \n",
            "8   kwmobile Case Compatible with Apple iPhone 4 /...    $6.99   \n",
            "9   Biss 30 Pin to USB Data Sync Charging Cable fo...    $6.49   \n",
            "10  kwmobile Case Compatible with Apple iPhone 4 /...   $11.99   \n",
            "11  UMIDIGI A11 Unlocked Cell Phones, 6.53\" HD+ Fu...  $168.99   \n",
            "12  30-Pin to USB Cable 10 Feet, AkoaDa USB Chargi...   $11.98   \n",
            "13  Cadorabo Tempered Glass compatible with Apple ...   $10.99   \n",
            "14  FOHEEL 30 Pin USB Data Sync Charger Cable High...    $6.55   \n",
            "15  Apple iPhone 11, US Version, 64GB, Black - Unl...  $326.99   \n",
            "16  [Apple MFi Certified] HomeSpot Sync & Charge 3...    $9.99   \n",
            "17  kwmobile Case Compatible with Apple iPhone 4 /...   $15.99   \n",
            "18  USB Charger and Cable Compatible for iPhone 4S...   $11.99   \n",
            "19  Pocxwa 1-Pack 30-Pin Charger Cable Compatible ...    $9.99   \n",
            "20  3 Pack of 6.5 Foot Extra Long Pink 30-Pin USB ...   $14.99   \n",
            "21  iXCC 3ft Apple MFi Certified 30 pin to USB Syn...   $10.99   \n",
            "22  Trenro 2pcs 30 Pin USB Sync Charging Cable Cor...   $12.66   \n",
            "23  HomeSpot 8 inches (20 Centimeters) 30 Pin USB ...    $9.99   \n",
            "24  30-Pin to USB Cable 6FT, AkoaDa USB Charging &...   $10.98   \n",
            "25                                   Simply iPhone 4S            \n",
            "26  AGVEE 2 Pack 6ft for Old iPhone 4S Charging Ca...   $16.99   \n",
            "28  Apple iPhone XR, 64GB, Black - Fully Unlocked ...  $276.99   \n",
            "33  Apple iPhone XR, US Version, 64GB, White - Unl...  $280.00   \n",
            "36  rosyclo 30-Pin to Lightning Adapter, MFi Certi...   $17.34   \n",
            "45  rosyclo Lightning to 30-Pin Adapter, MFi Certi...    $9.80   \n",
            "47  5 Pack of White 30-Pin USB Data Sync Charging ...   $19.99   \n",
            "\n",
            "                rating         reviews           availability  \n",
            "0   3.7 out of 5 stars              26  Only 1 left in stock.  \n",
            "1   4.3 out of 5 stars             208               In Stock  \n",
            "2   4.1 out of 5 stars             698  Only 3 left in stock.  \n",
            "3   4.4 out of 5 stars           2,354               In Stock  \n",
            "4   4.4 out of 5 stars      84 ratings               In Stock  \n",
            "5   4.4 out of 5 stars           4,696               In Stock  \n",
            "6   4.1 out of 5 stars             150          Not Available  \n",
            "7   4.4 out of 5 stars     176 ratings               In Stock  \n",
            "8        Previous page                  Only 8 left in stock.  \n",
            "9   4.4 out of 5 stars      47 ratings               In Stock  \n",
            "10  5.0 out of 5 stars               1  Only 5 left in stock.  \n",
            "11  3.7 out of 5 stars             308               In Stock  \n",
            "12  4.5 out of 5 stars     250 ratings               In Stock  \n",
            "13  4.2 out of 5 stars       9 ratings               In Stock  \n",
            "14  4.3 out of 5 stars      95 ratings               In Stock  \n",
            "15  4.2 out of 5 stars  11,070 ratings               In Stock  \n",
            "16  4.3 out of 5 stars     473 ratings               In Stock  \n",
            "17  4.4 out of 5 stars     177 ratings               In Stock  \n",
            "18  4.3 out of 5 stars             122               In Stock  \n",
            "19  4.4 out of 5 stars             424               In Stock  \n",
            "20  4.7 out of 5 stars              14               In Stock  \n",
            "21  4.5 out of 5 stars           5,888               In Stock  \n",
            "22  4.5 out of 5 stars          13,513               In Stock  \n",
            "23  4.3 out of 5 stars   1,216 ratings               In Stock  \n",
            "24  4.6 out of 5 stars     109 ratings               In Stock  \n",
            "25  4.0 out of 5 stars        1 rating          Not Available  \n",
            "26  4.7 out of 5 stars     506 ratings               In Stock  \n",
            "28  4.1 out of 5 stars  29,513 ratings          Not Available  \n",
            "33  4.2 out of 5 stars   6,459 ratings          Not Available  \n",
            "36  4.2 out of 5 stars     554 ratings          Not Available  \n",
            "45  3.1 out of 5 stars     202 ratings          Not Available  \n",
            "47  4.3 out of 5 stars     112 ratings          Not Available  \n"
          ]
        }
      ]
    }
  ]
}